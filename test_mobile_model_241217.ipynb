{
 "cells": [
  {
   "cell_type": "code",
   "execution_count": 1,
   "metadata": {},
   "outputs": [
    {
     "name": "stdout",
     "output_type": "stream",
     "text": [
      "Input Name: acc, Shape: [dim_param: \"batch_size\"\n",
      ", dim_value: 18\n",
      "]\n",
      "Input Name: ori, Shape: [dim_param: \"batch_size\"\n",
      ", dim_value: 54\n",
      "]\n",
      "Output Name: pose, Shape: [dim_param: \"batch_size\"\n",
      "]\n",
      "Output Name: tran, Shape: [dim_param: \"batch_size\"\n",
      "]\n"
     ]
    }
   ],
   "source": [
    "import onnx\n",
    "\n",
    "model = onnx.load(\"transpose_net_241217.onnx\")\n",
    "for input_tensor in model.graph.input:\n",
    "    print(f\"Input Name: {input_tensor.name}, Shape: {input_tensor.type.tensor_type.shape.dim}\")\n",
    "for output_tensor in model.graph.output:\n",
    "    print(f\"Output Name: {output_tensor.name}, Shape: {output_tensor.type.tensor_type.shape.dim}\")\n"
   ]
  },
  {
   "cell_type": "code",
   "execution_count": 3,
   "metadata": {},
   "outputs": [
    {
     "name": "stdout",
     "output_type": "stream",
     "text": [
      "Input Names: ['acc', 'ori']\n",
      "Output Names: ['pose', 'tran']\n",
      "{'acc': array([[ 0.50215614,  1.4753242 ,  0.653032  ,  0.9981128 ,  0.24920927,\n",
      "        -1.0688585 , -1.4402975 ,  0.8658008 , -0.73913854, -0.21190351,\n",
      "        -0.68251497, -0.2522456 ,  1.7773371 ,  0.7503529 ,  0.12864469,\n",
      "         1.6468254 , -0.10820701, -0.18495123]], dtype=float32), 'ori': array([[-3.3806923e-01, -7.6558635e-02,  7.2830474e-01, -1.0559250e+00,\n",
      "         9.4892710e-01, -1.3690926e-01,  1.5288116e-03, -1.8442574e-01,\n",
      "         4.9888641e-01, -1.5487947e+00, -8.5241622e-01, -1.9409300e+00,\n",
      "         6.6566712e-01, -7.2122931e-01, -8.6438233e-01,  2.5761659e+00,\n",
      "         1.2458873e-01,  4.1176549e-01,  6.2004465e-01,  1.7553265e+00,\n",
      "        -1.9800559e+00, -1.0109950e+00, -1.0835649e+00,  1.0015974e+00,\n",
      "        -1.2207077e+00,  6.7213053e-01, -1.7201130e-01,  1.6866050e+00,\n",
      "         8.3295447e-01,  5.3914666e-01,  5.4955256e-01, -8.5968137e-01,\n",
      "         1.0170464e-01,  7.9847389e-01, -3.2259640e-01, -3.0478885e-02,\n",
      "        -4.2091030e-01,  1.0218998e+00,  6.5659538e-02,  2.1225791e+00,\n",
      "         7.7558440e-01,  4.3862724e-01, -1.4550126e+00,  1.1994553e+00,\n",
      "         1.4208703e+00, -1.0031850e+00,  2.8953287e-01, -1.1154405e+00,\n",
      "        -7.6622769e-02, -9.1829228e-01, -6.2646174e-01, -1.0871474e-01,\n",
      "        -4.5217544e-01,  5.4850537e-01]], dtype=float32)}\n",
      "Output - pose: shape (72,)\n",
      "Output - tran: shape (3,)\n",
      "[array([-1.9350117 ,  1.7981528 ,  0.80099744,  0.09729629,  0.10600542,\n",
      "        0.8473823 , -0.48133457,  0.14639421, -0.22770278,  0.3222508 ,\n",
      "       -0.20915274, -0.23747927,  0.52662736,  0.09061853,  0.07763895,\n",
      "        0.61644226,  0.31320947, -0.15880425, -0.17160407, -0.22128475,\n",
      "       -0.04753179,  0.        ,  0.        ,  0.        ,  0.        ,\n",
      "        0.        ,  0.        , -0.05603448, -0.11446881,  0.00648929,\n",
      "        0.        ,  0.        ,  0.        ,  0.        ,  0.        ,\n",
      "        0.        , -0.11747951, -0.48200458, -0.0278027 ,  0.1421748 ,\n",
      "        0.369873  ,  0.40955946, -0.29066435, -0.34051985, -0.56445634,\n",
      "       -0.28633726, -0.32831222,  0.14492904, -0.54548746,  0.08549751,\n",
      "       -1.196592  , -0.2158913 , -0.37245646,  0.64137846, -1.3697395 ,\n",
      "       -1.1365371 ,  0.35699177, -0.5792905 ,  0.29996338, -0.24113214,\n",
      "        0.        ,  0.        ,  0.        ,  0.        ,  0.        ,\n",
      "        0.        ,  0.        ,  0.        ,  0.        ,  0.        ,\n",
      "        0.        ,  0.        ], dtype=float32), array([ 0.6096203 , -1.127471  ,  0.40078986], dtype=float32)]\n"
     ]
    }
   ],
   "source": [
    "import onnxruntime as ort\n",
    "import numpy as np\n",
    "\n",
    "# ONNX 모델 실행 준비\n",
    "session = ort.InferenceSession(\"transpose_net_241217.onnx\")\n",
    "\n",
    "# 모델 입력 정보 확인\n",
    "input_names = [inp.name for inp in session.get_inputs()]\n",
    "output_names = [out.name for out in session.get_outputs()]\n",
    "print(f\"Input Names: {input_names}\")\n",
    "print(f\"Output Names: {output_names}\")\n",
    "\n",
    "# 더미 입력 생성 (입력 크기에 맞춰 설정)\n",
    "dummy_input = {\n",
    "    \"acc\": np.random.randn(1, 18).astype(np.float32),\n",
    "    \"ori\": np.random.randn(1, 54).astype(np.float32),\n",
    "}\n",
    "\n",
    "print(dummy_input)\n",
    "\n",
    "# 실행 및 결과 출력\n",
    "results = session.run(output_names, dummy_input)\n",
    "for name, result in zip(output_names, results):\n",
    "    print(f\"Output - {name}: shape {result.shape}\")\n",
    "\n",
    "print(results)"
   ]
  },
  {
   "cell_type": "code",
   "execution_count": 6,
   "metadata": {},
   "outputs": [
    {
     "name": "stderr",
     "output_type": "stream",
     "text": [
      "C:\\Users\\sage\\AppData\\Local\\Temp\\ipykernel_51036\\3248794920.py:5: FutureWarning: You are using `torch.load` with `weights_only=False` (the current default value), which uses the default pickle module implicitly. It is possible to construct malicious pickle data which will execute arbitrary code during unpickling (See https://github.com/pytorch/pytorch/blob/main/SECURITY.md#untrusted-models for more details). In a future release, the default value for `weights_only` will be flipped to `True`. This limits the functions that could be executed during unpickling. Arbitrary objects will no longer be allowed to be loaded via this mode unless they are explicitly allowlisted by the user via `torch.serialization.add_safe_globals`. We recommend you start setting `weights_only=True` for any use case where you don't have full control of the loaded file. Please open an issue on GitHub for any issues related to this experimental feature.\n",
      "  acc_tensor = torch.load(\"C:/Users/sage/SynologyDrive/dev/transpose_livestream/client/acc_240521.pt\")\n",
      "C:\\Users\\sage\\AppData\\Local\\Temp\\ipykernel_51036\\3248794920.py:9: FutureWarning: You are using `torch.load` with `weights_only=False` (the current default value), which uses the default pickle module implicitly. It is possible to construct malicious pickle data which will execute arbitrary code during unpickling (See https://github.com/pytorch/pytorch/blob/main/SECURITY.md#untrusted-models for more details). In a future release, the default value for `weights_only` will be flipped to `True`. This limits the functions that could be executed during unpickling. Arbitrary objects will no longer be allowed to be loaded via this mode unless they are explicitly allowlisted by the user via `torch.serialization.add_safe_globals`. We recommend you start setting `weights_only=True` for any use case where you don't have full control of the loaded file. Please open an issue on GitHub for any issues related to this experimental feature.\n",
      "  ori_tensor = torch.load(\"C:/Users/sage/SynologyDrive/dev/transpose_livestream/client/ori_240521.pt\")\n"
     ]
    }
   ],
   "source": [
    "import torch\n",
    "import json\n",
    "\n",
    "# acc.pt 데이터 로드\n",
    "acc_tensor = torch.load(\"C:/Users/sage/SynologyDrive/dev/transpose_livestream/client/acc_240521.pt\")\n",
    "acc_data = acc_tensor.numpy().tolist()\n",
    "\n",
    "# ori.pt 데이터 로드\n",
    "ori_tensor = torch.load(\"C:/Users/sage/SynologyDrive/dev/transpose_livestream/client/ori_240521.pt\")\n",
    "ori_data = ori_tensor.numpy().tolist()\n",
    "\n",
    "# JSON 파일로 저장\n",
    "with open(\"acc_240521.json\", \"w\") as f:\n",
    "    json.dump(acc_data, f)\n",
    "\n",
    "with open(\"ori_240521.json\", \"w\") as f:\n",
    "    json.dump(ori_data, f)\n"
   ]
  },
  {
   "cell_type": "code",
   "execution_count": 21,
   "metadata": {},
   "outputs": [
    {
     "data": {
      "text/plain": [
       "tensor([-0.0053,  0.0065,  0.0008,  0.0458,  0.0275,  0.0646,  0.0119, -0.0346,\n",
       "        -0.0230,  0.0552,  0.0394,  0.0051, -0.0051, -0.0374, -0.0382,  0.0256,\n",
       "         0.0056,  0.0099, -0.0494, -0.0521,  0.0056,  0.0000,  0.0000,  0.0000,\n",
       "         0.0000,  0.0000,  0.0000,  0.0581, -0.0029, -0.0158,  0.0000,  0.0000,\n",
       "         0.0000,  0.0000,  0.0000,  0.0000, -0.0109,  0.0597, -0.0200, -0.0892,\n",
       "         0.0721,  0.0911, -0.0888, -0.0605, -0.0685, -0.0498, -0.0510,  0.0668,\n",
       "        -0.2088,  0.0436, -0.3153, -0.2370,  0.0330,  0.3202,  0.2264, -0.0701,\n",
       "         0.1556,  0.2939,  0.0506, -0.1717,  0.0000,  0.0000,  0.0000,  0.0000,\n",
       "         0.0000,  0.0000,  0.0000,  0.0000,  0.0000,  0.0000,  0.0000,  0.0000])"
      ]
     },
     "execution_count": 21,
     "metadata": {},
     "output_type": "execute_result"
    }
   ],
   "source": [
    "from utils import normalize_and_concat\n",
    "from net import TransPoseNet\n",
    "from articulate.math import *\n",
    "# python 11에서 발생하는 버그 수정\n",
    "import inspect\n",
    "\n",
    "if not hasattr(inspect, 'getargspec'):\n",
    "    inspect.getargspec = inspect.getfullargspec\n",
    "\n",
    "\n",
    "device = torch.device('cuda' if torch.cuda.is_available() else 'cpu')\n",
    "inertial_poser = TransPoseNet(num_past_frame=20, num_future_frame=5).to(device)\n",
    "\n",
    "data_nn = normalize_and_concat(acc_tensor[0].view(1,18), ori_tensor[0].view(1,54)).to(device)\n",
    "pose, tran = inertial_poser.forward_online(data_nn)\n",
    "pose = rotation_matrix_to_axis_angle(pose.view(1, 216)).view(72)\n",
    "\n",
    "pose"
   ]
  }
 ],
 "metadata": {
  "kernelspec": {
   "display_name": ".venv",
   "language": "python",
   "name": "python3"
  },
  "language_info": {
   "codemirror_mode": {
    "name": "ipython",
    "version": 3
   },
   "file_extension": ".py",
   "mimetype": "text/x-python",
   "name": "python",
   "nbconvert_exporter": "python",
   "pygments_lexer": "ipython3",
   "version": "3.11.4"
  }
 },
 "nbformat": 4,
 "nbformat_minor": 2
}
